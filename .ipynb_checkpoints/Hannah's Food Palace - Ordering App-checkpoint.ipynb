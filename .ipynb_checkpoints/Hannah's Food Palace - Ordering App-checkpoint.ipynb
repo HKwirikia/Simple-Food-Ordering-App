{
 "cells": [
  {
   "cell_type": "markdown",
   "id": "9d4b49aa",
   "metadata": {},
   "source": [
    "# Build a Basic Food Ordering App"
   ]
  },
  {
   "cell_type": "markdown",
   "id": "797ed6d4",
   "metadata": {},
   "source": [
    "This code helps to create an application for a local restaurant called Hannah's Food Palace that allows users to order food directly from the app.\n",
    "\n",
    "The application displays the menu options and prices to the user. And the user should also be able to add and remove items to their cart and update item quantities."
   ]
  },
  {
   "cell_type": "markdown",
   "id": "9b94b436",
   "metadata": {},
   "source": [
    "## Step 1: Define Global-level variables"
   ]
  },
  {
   "cell_type": "markdown",
   "id": "4a79ac8e",
   "metadata": {},
   "source": [
    "Global level variables are all the variables that will need to be accessed from all the functions in our application. They include:\n",
    "\n",
    "* The menu, including item names and their prices\n",
    "* The available actions that a auser can perform while using the application\n",
    "* The sales tax rate used to calculate the user's final order amount\n",
    "* The cart which will hold the user's order"
   ]
  },
  {
   "cell_type": "code",
   "execution_count": 1,
   "id": "6545c411",
   "metadata": {},
   "outputs": [],
   "source": [
    "# Define the restaurant name as a constant\n",
    "RESTAURANT_NAME = \"Hannah's Food Palace\"\n",
    "\n",
    "# Create a nested dictionary to represent the restaurant menu\n",
    "#sku stands for stock keeping unit\n",
    "menu = {\n",
    "    'sku1': {'name': 'Chai',\n",
    "             'price': 30},\n",
    "    'sku2': {'name': 'Mandazi',\n",
    "             'price': 20},\n",
    "    'sku3': {'name': 'Chapati',\n",
    "             'price': 25},\n",
    "    'sku4': {'name': 'Pojo',\n",
    "             'price': 40},\n",
    "    'sku5': {'name': 'Ugali',\n",
    "             'price': 20},\n",
    "    'sku6': {'name': 'Sukuma Wiki',\n",
    "             'price': 15},\n",
    "    'sku7': {'name': 'Pilau',\n",
    "             'price': 130},\n",
    "    'sku8': {'name': 'Beef',\n",
    "             'price': 70},\n",
    "    'sku9': {'name': 'Mukimo',\n",
    "             'price': 60},\n",
    "    'sku10': {'name': 'Managu',\n",
    "              'price': 40},\n",
    "}\n",
    "\n",
    "# Define actions that can be performed in the menu application\n",
    "app_actions = {\n",
    "    '1': 'Add a new menu item to the cart',\n",
    "    '2': 'Remove an item from the cart',\n",
    "    '3': 'Modify the quantity of a cart item',\n",
    "    '4': 'View the contents of the cart',\n",
    "    '5': 'Proceed to checkout',\n",
    "    '6': 'Exit the application',\n",
    "}\n",
    "\n",
    "# Set the sales tax rate as a global constant since it doesn't change\n",
    "SALES_TAX_RATE = 0.16\n",
    "\n",
    "# Initialize an empty dictionary to represent the user's shopping cart\n",
    "cart = {}\n"
   ]
  },
  {
   "cell_type": "markdown",
   "id": "80c6ba4c",
   "metadata": {},
   "source": [
    "## Step 2: Displaying the Menu"
   ]
  },
  {
   "cell_type": "code",
   "execution_count": 2,
   "id": "8d701399",
   "metadata": {},
   "outputs": [],
   "source": [
    "def display_menu():\n",
    "    '''Displays all menu item SKUs, names, and prices in KES.'''\n",
    "    \n",
    "    # Display a header message\n",
    "    print('\\n****Menu****\\n')\n",
    "    \n",
    "    # Iterate through each SKU in the menu\n",
    "    for sku in menu:\n",
    "        # Extract the numerical portion of the SKU by slicing the leading 'sku' string\n",
    "        parsed_sku = sku[3:]\n",
    "        \n",
    "        # Retrieve the name and price of the menu item\n",
    "        item = menu[sku]['name']\n",
    "        price_in_kes = menu[sku]['price']  # Prices are assumed to be in KES\n",
    "        \n",
    "        # Display the SKU, item name, and price in KES\n",
    "        print('(' + parsed_sku + ')' + ' ' + item + ': KES ' + str(price_in_kes))\n",
    "    \n",
    "    # Print a newline for better formatting\n",
    "    print('\\n')\n"
   ]
  },
  {
   "cell_type": "markdown",
   "id": "206374b8",
   "metadata": {},
   "source": [
    "## Step 3: Adding Items to the Cart"
   ]
  },
  {
   "cell_type": "code",
   "execution_count": 3,
   "id": "8844bd5a",
   "metadata": {},
   "outputs": [],
   "source": [
    "def add_to_cart(sku, quantity=1):\n",
    "    '''\n",
    "    Add an item and its quantity to the cart.\n",
    "    \n",
    "    :param string sku: The input SKU number being ordered.\n",
    "    :param int quantity: The input quantity being ordered.\n",
    "    '''\n",
    "    \n",
    "    # Check if the provided SKU is in the menu\n",
    "    if sku in menu:\n",
    "        # Check if the SKU is already in the cart\n",
    "        if sku in cart:\n",
    "            # Increment the quantity if the item is already in the cart\n",
    "            cart[sku] += quantity\n",
    "        else:\n",
    "            # Add the item to the cart with the specified quantity\n",
    "            cart[sku] = quantity\n",
    "        # Print a message confirming the addition to the cart\n",
    "        print('Added', quantity, 'of', menu[sku]['name'], 'to the cart.')\n",
    "    else:\n",
    "        # Print an error message if the SKU is not in the menu\n",
    "        print(\"I'm sorry. The menu number\", sku, \"that you entered is not on the menu.\")\n"
   ]
  },
  {
   "cell_type": "markdown",
   "id": "5dca5818",
   "metadata": {},
   "source": [
    "## Step 4: Removing Items from the Cart"
   ]
  },
  {
   "cell_type": "code",
   "execution_count": 4,
   "id": "d3dc332c",
   "metadata": {},
   "outputs": [],
   "source": [
    "def remove_from_cart(sku):\n",
    "    '''\n",
    "    Remove an item from the cart.\n",
    "    \n",
    "    :param string sku: The input SKU number to remove from the cart.\n",
    "    '''\n",
    "    \n",
    "    # Check if the provided SKU is in the cart\n",
    "    if sku in cart:\n",
    "        # Retrieve the item details from the menu using the SKU\n",
    "        item_name = menu[sku]['name']\n",
    "        item_price = menu[sku]['price']\n",
    "\n",
    "        # Remove the item from the cart\n",
    "        removed_quantity = cart.pop(sku)\n",
    "\n",
    "        # Calculate the total price of the removed items\n",
    "        removed_total_price = item_price * removed_quantity\n",
    "\n",
    "        # Print a message confirming the removal from the cart\n",
    "        print(f\"Removed {removed_quantity} of {item_name} (SKU: {sku}) from the cart. Total Price: KES {removed_total_price}\")\n",
    "    else:\n",
    "        # Print an error message if the SKU is not in the cart\n",
    "        print(\"I'm sorry. Item with SKU\", sku, \"is not currently in the cart.\")\n"
   ]
  },
  {
   "cell_type": "markdown",
   "id": "efef9358",
   "metadata": {},
   "source": [
    "## Step 5: Modifying Items in the Cart"
   ]
  },
  {
   "cell_type": "code",
   "execution_count": 5,
   "id": "118c65b4",
   "metadata": {},
   "outputs": [],
   "source": [
    "def modify_cart(sku, quantity):\n",
    "    '''\n",
    "    Modify an item's quantity in the cart.\n",
    "    \n",
    "    :param string sku: The input SKU number being modified.\n",
    "    :param int quantity: The input new quantity to use for the SKU.\n",
    "    '''\n",
    "    \n",
    "    # Check if the provided SKU is in the cart\n",
    "    if sku in cart:\n",
    "        # Check if the new quantity is greater than 0\n",
    "        if quantity > 0:\n",
    "            # Update the quantity for the specified SKU in the cart\n",
    "            cart[sku] = quantity\n",
    "            # Print a message confirming the modification\n",
    "            print(\"Modified\", menu[sku]['name'], \"quantity to\", quantity, \"in the cart.\")\n",
    "        else:\n",
    "            # If the new quantity is not valid, call the remove_from_cart function\n",
    "            remove_from_cart(sku)\n",
    "    else:\n",
    "        # Print an error message if the SKU is not in the cart\n",
    "        print(\"I'm sorry.\", menu[sku]['name'], \"is not currently in the cart.\")\n"
   ]
  },
  {
   "cell_type": "markdown",
   "id": "90d5e1bd",
   "metadata": {},
   "source": [
    "## Step 6: View Cart"
   ]
  },
  {
   "cell_type": "code",
   "execution_count": 6,
   "id": "cd889e5c",
   "metadata": {},
   "outputs": [],
   "source": [
    "def view_cart():\n",
    "    '''Displays the current contents of the shopping cart and the total cumulative price.'''\n",
    "    if not cart:\n",
    "        print(\"Your cart is empty.\")\n",
    "    else:\n",
    "        print(\"\\n****Shopping Cart****\\n\")\n",
    "        total_price = 0\n",
    "\n",
    "        for sku, quantity in cart.items():\n",
    "            item_name = menu[sku]['name']\n",
    "            item_price = menu[sku]['price']\n",
    "            item_total_price = item_price * quantity\n",
    "            total_price += item_total_price\n",
    "\n",
    "            print(f\"{item_name} (SKU: {sku}) - Quantity: {quantity} - Total Price: KES {item_total_price}\")\n",
    "\n",
    "        print(\"\\nTotal Cumulative Price: KES\", total_price, \"\\n\")\n"
   ]
  },
  {
   "cell_type": "markdown",
   "id": "dfe85c9f",
   "metadata": {},
   "source": [
    "## Step 7: Checking Out"
   ]
  },
  {
   "cell_type": "code",
   "execution_count": 7,
   "id": "d84c9991",
   "metadata": {},
   "outputs": [],
   "source": [
    "def checkout():\n",
    "    '''\n",
    "    Display the subtotal information for the user to checkout.\n",
    "    '''\n",
    "    \n",
    "    # Display a header message\n",
    "    print('\\n****Checkout****\\n')\n",
    "    \n",
    "    # Call the previously defined function to view the cart contents\n",
    "    view_cart()\n",
    "    \n",
    "    # Calculate the subtotal by summing up the prices of all items in the cart\n",
    "    subtotal = sum(menu[sku]['price'] * quantity for sku, quantity in cart.items())\n",
    "    \n",
    "    # Calculate the tax amount\n",
    "    tax = subtotal * SALES_TAX_RATE\n",
    "    \n",
    "    # Calculate the total cost by adding the subtotal and tax\n",
    "    total_cost = subtotal + tax\n",
    "    \n",
    "    # Print the subtotal, tax, and total cost\n",
    "    print(f\"Subtotal: KES {subtotal:.2f}\")\n",
    "    print(f\"Tax ({SALES_TAX_RATE * 100}%): KES {tax:.2f}\")\n",
    "    print(f\"Total: KES {total_cost:.2f}\")\n",
    "    \n",
    "    # Print a thank-you message for the order\n",
    "    print(\"Asante! Kwaheri!\")\n",
    "    \n",
    "    # Print a newline for better formatting\n",
    "    print('\\n')\n"
   ]
  },
  {
   "cell_type": "markdown",
   "id": "d314140b",
   "metadata": {},
   "source": [
    "## Step 8: Get User Input"
   ]
  },
  {
   "cell_type": "code",
   "execution_count": 8,
   "id": "d4d0f803",
   "metadata": {},
   "outputs": [],
   "source": [
    "def get_sku_and_quantity(sku_prompt, quantity_prompt=None):\n",
    "    '''\n",
    "    Get input from the user.\n",
    "    \n",
    "    :param string sku_prompt: A string representing the prompt to display to the user before they enter the SKU number.\n",
    "    :param string quantity_prompt: A string representing the prompt to display to the user before they enter the quantity.\n",
    "        This defaults to None for cases where quantity input is not needed.\n",
    "        \n",
    "    :returns: The full SKU# value and the quantity (in certain cases)\n",
    "    '''\n",
    "    # Use the SKU prompt to get input from the user\n",
    "    item_sku = input(sku_prompt)\n",
    "    # String concatenate \"sku\" to the beginning of the entered SKU number\n",
    "    item_sku = \"sku\" + item_sku\n",
    "    \n",
    "    # If the quantity prompt is provided, we should get input from the user \n",
    "    if quantity_prompt:\n",
    "        # Use the quantity prompt to get input from the user\n",
    "        quantity = input(quantity_prompt)\n",
    "        \n",
    "        # If the user typed a non-digit value, default quantity to 1\n",
    "        if not quantity.isdigit():\n",
    "            quantity = 1\n",
    "        quantity = int(quantity)\n",
    "\n",
    "        return item_sku, quantity\n",
    "    # Quantity prompt is None meaning we do not need to get input for quantity\n",
    "    else:\n",
    "        return item_sku\n"
   ]
  },
  {
   "cell_type": "markdown",
   "id": "73343b59",
   "metadata": {},
   "source": [
    "## Step 9: Create App Ordering Loop"
   ]
  },
  {
   "cell_type": "code",
   "execution_count": 9,
   "id": "b3c843e5",
   "metadata": {},
   "outputs": [],
   "source": [
    "def order_loop():\n",
    "    '''\n",
    "    Loop ordering actions until checkout or exit.\n",
    "    '''\n",
    "    \n",
    "    # Display a welcome message to the user\n",
    "    print('Welcome to the ' + RESTAURANT_NAME + '!')\n",
    "    \n",
    "    # Set the conditional boolean variable that will be used to determine if the while loop\n",
    "    # continues running or whether it should terminate\n",
    "    ordering = True\n",
    "    \n",
    "    while ordering:\n",
    "        # Display the app ordering actions\n",
    "        print('\\n****Ordering Actions****\\n')\n",
    "        for number in app_actions:\n",
    "            description = app_actions[number]\n",
    "            print('(' + number + ')', description)\n",
    "        \n",
    "        # Get user input for the action they want to take\n",
    "        response = input('Please enter the number of the action you want to take: ')\n",
    "        \n",
    "        if response == '1':\n",
    "            # User wants to order a menu item. Prompt them for SKU and quantity.\n",
    "            display_menu()\n",
    "            sku_prompt = 'Please enter the SKU number for the menu item you want to order: '\n",
    "            quantity_prompt = 'Please enter the quantity you want to order [default is 1]: '\n",
    "            ordered_sku, quantity = get_sku_and_quantity(sku_prompt, quantity_prompt)\n",
    "            add_to_cart(ordered_sku, quantity)\n",
    "        elif response == '2':\n",
    "            # User wants to remove an item from the cart. Prompt them for SKU only.\n",
    "            display_menu()\n",
    "            sku_prompt = 'Please enter the SKU number for the menu item you want to remove: '\n",
    "            item_sku = get_sku_and_quantity(sku_prompt)\n",
    "            remove_from_cart(item_sku)\n",
    "        elif response == '3':\n",
    "            # User wants to modify an item quantity in the cart. Prompt them for SKU and quantity.\n",
    "            display_menu()\n",
    "            sku_prompt = 'Please enter the SKU number for the menu item you want to modify: '\n",
    "            quantity_prompt = 'Please enter the quantity you want to change to [default is 1]: '\n",
    "            item_sku, quantity = get_sku_and_quantity(sku_prompt, quantity_prompt)\n",
    "            modify_cart(item_sku, quantity)\n",
    "        elif response == '4':\n",
    "            # User wants to view the current cart contents. No user input needed.\n",
    "            view_cart()\n",
    "        elif response == '5':\n",
    "            # User wants to checkout. No user input needed. Terminate the while loop after displaying.\n",
    "            checkout()\n",
    "            ordering = False\n",
    "        elif response == '6':\n",
    "            # User wants to exit before ordering. No user input needed. Terminate the while loop.\n",
    "            print('Goodbye!')\n",
    "            ordering = False\n",
    "        else:\n",
    "            # User has entered an invalid action number. Display a message.\n",
    "            print('You have entered an invalid action number. Please try again.')\n"
   ]
  },
  {
   "cell_type": "markdown",
   "id": "bf7d94dc",
   "metadata": {},
   "source": [
    "## Step 10: Test the Ordering App."
   ]
  },
  {
   "cell_type": "code",
   "execution_count": null,
   "id": "67a69aa9",
   "metadata": {},
   "outputs": [
    {
     "name": "stdout",
     "output_type": "stream",
     "text": [
      "Welcome to the Hannah's Food Palace!\n",
      "\n",
      "****Ordering Actions****\n",
      "\n",
      "(1) Add a new menu item to the cart\n",
      "(2) Remove an item from the cart\n",
      "(3) Modify the quantity of a cart item\n",
      "(4) View the contents of the cart\n",
      "(5) Proceed to checkout\n",
      "(6) Exit the application\n"
     ]
    }
   ],
   "source": [
    "order_loop()"
   ]
  }
 ],
 "metadata": {
  "kernelspec": {
   "display_name": "Python (learn-env)",
   "language": "python",
   "name": "learn-env"
  },
  "language_info": {
   "codemirror_mode": {
    "name": "ipython",
    "version": 3
   },
   "file_extension": ".py",
   "mimetype": "text/x-python",
   "name": "python",
   "nbconvert_exporter": "python",
   "pygments_lexer": "ipython3",
   "version": "3.8.5"
  }
 },
 "nbformat": 4,
 "nbformat_minor": 5
}
