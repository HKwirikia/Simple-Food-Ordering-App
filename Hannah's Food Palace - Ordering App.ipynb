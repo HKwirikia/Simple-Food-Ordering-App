{
 "cells": [
  {
   "cell_type": "markdown",
   "id": "ee57309b",
   "metadata": {},
   "source": [
    "# Build a Basic Food Ordering App"
   ]
  },
  {
   "cell_type": "markdown",
   "id": "a84b1610",
   "metadata": {},
   "source": [
    "You run a local restaurant and want to create an application where users can order food directly from your app. The application should display the menu options and prices to the user. The user should also be able to add and remove items to their cart and update item quantities.\n",
    "\n",
    "This project aims to practice using dictionaries to associate items with prices and quantities, using loops to iterate through a dictionary to calculate the cart subtotal, and using built-in functions and custom functions to manage the ordering system."
   ]
  },
  {
   "cell_type": "markdown",
   "id": "8e00668b",
   "metadata": {},
   "source": [
    "## Step 1: Define Global-level variables"
   ]
  },
  {
   "cell_type": "markdown",
   "id": "4d23bdd4",
   "metadata": {},
   "source": [
    "Global level variables are all the variables that will need to be accessed from all the functions in our application. They include:\n",
    "\n",
    "* The menu, including item names and their prices\n",
    "* The available actions that a auser can perform while using the application\n",
    "* The sales tax rate used to calculate the user's final order amount\n",
    "* The cart which will hold the user's order"
   ]
  },
  {
   "cell_type": "code",
   "execution_count": 1,
   "id": "e9e3a416",
   "metadata": {},
   "outputs": [],
   "source": [
    "# Define the restaurant name as a constant\n",
    "RESTAURANT_NAME = \"Hannah's Food Palace\"\n",
    "\n",
    "# Create a nested dictionary to represent the restaurant menu\n",
    "#sku stands for stock keeping unit\n",
    "menu = {\n",
    "    'sku1': {'name': 'Chai',\n",
    "             'price': 30},\n",
    "    'sku2': {'name': 'Mandazi',\n",
    "             'price': 20},\n",
    "    'sku3': {'name': 'Chapati',\n",
    "             'price': 25},\n",
    "    'sku4': {'name': 'Pojo',\n",
    "             'price': 40},\n",
    "    'sku5': {'name': 'Ugali',\n",
    "             'price': 20},\n",
    "    'sku6': {'name': 'Sukuma Wiki',\n",
    "             'price': 15},\n",
    "    'sku7': {'name': 'Pilau',\n",
    "             'price': 130},\n",
    "    'sku8': {'name': 'Beef',\n",
    "             'price': 70},\n",
    "    'sku9': {'name': 'Mukimo',\n",
    "             'price': 60},\n",
    "    'sku10': {'name': 'Managu',\n",
    "              'price': 40},\n",
    "}\n",
    "\n",
    "# Define actions that can be performed in the menu application\n",
    "app_actions = {\n",
    "    '1': 'Add a new menu item to the cart',\n",
    "    '2': 'Remove an item from the cart',\n",
    "    '3': 'Modify the quantity of a cart item',\n",
    "    '4': 'View the contents of the cart',\n",
    "    '5': 'Proceed to checkout',\n",
    "    '6': 'Exit the application',\n",
    "}\n",
    "\n",
    "# Set the sales tax rate as a global constant since it doesn't change\n",
    "SALES_TAX_RATE = 0.16\n",
    "\n",
    "# Initialize an empty dictionary to represent the user's shopping cart\n",
    "cart = {}\n"
   ]
  },
  {
   "cell_type": "markdown",
   "id": "c800f40d",
   "metadata": {},
   "source": [
    "## Step 2: Displaying the Menu"
   ]
  },
  {
   "cell_type": "code",
   "execution_count": 2,
   "id": "c6339f03",
   "metadata": {},
   "outputs": [],
   "source": [
    "def display_menu():\n",
    "    '''Displays all menu item SKUs, names, and prices.'''\n",
    "    \n",
    "    # Display a header message\n",
    "    print('\\n****Menu****\\n')\n",
    "    \n",
    "    # Iterate through each SKU in the menu\n",
    "    for sku in menu:\n",
    "        # Extract the numerical portion of the SKU by slicing the leading 'sku' string\n",
    "        parsed_sku = sku[3:]\n",
    "        \n",
    "        # Retrieve the name and price of the menu item\n",
    "        item = menu[sku]['name']\n",
    "        price = menu[sku]['price']\n",
    "        \n",
    "        # Display the SKU, item name, and price\n",
    "        print('(' + parsed_sku + ')' + ' ' + item + ': $' + str(price))\n",
    "    \n",
    "    # Print a newline for better formatting\n",
    "    print('\\n')\n"
   ]
  },
  {
   "cell_type": "markdown",
   "id": "3f3806d1",
   "metadata": {},
   "source": [
    "## Step 3: Adding Items to the Cart"
   ]
  },
  {
   "cell_type": "code",
   "execution_count": 3,
   "id": "93db48ed",
   "metadata": {},
   "outputs": [],
   "source": [
    "def add_to_cart(sku, quantity=1):\n",
    "    '''\n",
    "    Add an item and its quantity to the cart.\n",
    "    \n",
    "    :param string sku: The input SKU number being ordered.\n",
    "    :param int quantity: The input quantity being ordered.\n",
    "    '''\n",
    "    \n",
    "    # Check if the provided SKU is in the menu\n",
    "    if sku in menu:\n",
    "        # Check if the SKU is already in the cart\n",
    "        if sku in cart:\n",
    "            # Increment the quantity if the item is already in the cart\n",
    "            cart[sku] += quantity\n",
    "        else:\n",
    "            # Add the item to the cart with the specified quantity\n",
    "            cart[sku] = quantity\n",
    "        # Print a message confirming the addition to the cart\n",
    "        print('Added', quantity, 'of', menu[sku]['name'], 'to the cart.')\n",
    "    else:\n",
    "        # Print an error message if the SKU is not in the menu\n",
    "        print(\"I'm sorry. The menu number\", sku, \"that you entered is not on the menu.\")\n"
   ]
  },
  {
   "cell_type": "markdown",
   "id": "9d93f82a",
   "metadata": {},
   "source": [
    "## Step 4: Removing Items from the Cart"
   ]
  },
  {
   "cell_type": "code",
   "execution_count": 4,
   "id": "1c918b58",
   "metadata": {},
   "outputs": [],
   "source": [
    "def remove_from_cart(sku):\n",
    "    '''\n",
    "    Remove an item from the cart.\n",
    "    \n",
    "    :param string sku: The input SKU number to remove from the cart.\n",
    "    '''\n",
    "    \n",
    "    # Check if the provided SKU is in the cart\n",
    "    if sku in cart:\n",
    "        # Remove the item from the cart and store its details\n",
    "        removed_val = cart.pop(sku)\n",
    "        # Print a message confirming the removal from the cart\n",
    "        print(\"Removed\", removed_val['name'], \"from the cart.\")\n",
    "    else:\n",
    "        # Print an error message if the SKU is not in the cart\n",
    "        print(\"I'm sorry. Item with SKU\", sku, \"is not currently in the cart.\")\n"
   ]
  },
  {
   "cell_type": "markdown",
   "id": "08262a3c",
   "metadata": {},
   "source": [
    "## Step 5: Modifying Items in the Cart"
   ]
  },
  {
   "cell_type": "code",
   "execution_count": 5,
   "id": "5d241963",
   "metadata": {},
   "outputs": [],
   "source": [
    "def modify_cart(sku, quantity):\n",
    "    '''\n",
    "    Modify an item's quantity in the cart.\n",
    "    \n",
    "    :param string sku: The input SKU number being modified.\n",
    "    :param int quantity: The input new quantity to use for the SKU.\n",
    "    '''\n",
    "    \n",
    "    # Check if the provided SKU is in the cart\n",
    "    if sku in cart:\n",
    "        # Check if the new quantity is greater than 0\n",
    "        if quantity > 0:\n",
    "            # Update the quantity for the specified SKU in the cart\n",
    "            cart[sku] = quantity\n",
    "            # Print a message confirming the modification\n",
    "            print(\"Modified\", menu[sku]['name'], \"quantity to\", quantity, \"in the cart.\")\n",
    "        else:\n",
    "            # If the new quantity is not valid, call the remove_from_cart function\n",
    "            remove_from_cart(sku)\n",
    "    else:\n",
    "        # Print an error message if the SKU is not in the cart\n",
    "        print(\"I'm sorry.\", menu[sku]['name'], \"is not currently in the cart.\")\n"
   ]
  },
  {
   "cell_type": "markdown",
   "id": "6cfc10f4",
   "metadata": {},
   "source": [
    "## Step 6: Checking Out"
   ]
  },
  {
   "cell_type": "code",
   "execution_count": 6,
   "id": "383582f6",
   "metadata": {},
   "outputs": [],
   "source": [
    "def checkout():\n",
    "    '''\n",
    "    Display the subtotal information for the user to checkout.\n",
    "    '''\n",
    "    \n",
    "    # Display a header message\n",
    "    print('\\n****Checkout****\\n')\n",
    "    \n",
    "    # Call the previously defined function to view the cart contents\n",
    "    view_cart()\n",
    "    \n",
    "    # Print a thank-you message for the order\n",
    "    print(\"Asante! Kwaheri!\")\n",
    "    \n",
    "    # Print a newline for better formatting\n",
    "    print('\\n')"
   ]
  },
  {
   "cell_type": "markdown",
   "id": "8a8b5777",
   "metadata": {},
   "source": [
    "## Step 7: Get User Input"
   ]
  },
  {
   "cell_type": "code",
   "execution_count": 7,
   "id": "c8303404",
   "metadata": {},
   "outputs": [],
   "source": [
    "def get_sku_and_quantity(sku_prompt, quantity_prompt=None):\n",
    "    '''\n",
    "    Get input from the user.\n",
    "    \n",
    "    :param string sku_prompt: A string representing the prompt to display to the user before they enter the SKU number.\n",
    "    :param string quantity_prompt: A string representing the prompt to display to the user before they enter the quantity.\n",
    "        This defaults to None for cases where quantity input is not needed.\n",
    "        \n",
    "    :returns: The full SKU# value and the quantity (in certain cases)\n",
    "    '''\n",
    "    # Use the SKU prompt to get input from the user\n",
    "    item_sku = input(sku_prompt)\n",
    "    # String concatenate \"sku\" to the beginning of the entered SKU number\n",
    "    item_sku = \"sku\" + item_sku\n",
    "    \n",
    "    # If the quantity prompt is provided, we should get input from the user \n",
    "    if quantity_prompt:\n",
    "        # Use the quantity prompt to get input from the user\n",
    "        quantity = input(quantity_prompt)\n",
    "        \n",
    "        # If the user typed a non-digit value, default quantity to 1\n",
    "        if not quantity.isdigit():\n",
    "            quantity = 1\n",
    "        quantity = int(quantity)\n",
    "\n",
    "        return item_sku, quantity\n",
    "    # Quantity prompt is None meaning we do not need to get input for quantity\n",
    "    else:\n",
    "        return item_sku\n"
   ]
  },
  {
   "cell_type": "markdown",
   "id": "e0caab19",
   "metadata": {},
   "source": [
    "## Create App Ordering Loop"
   ]
  },
  {
   "cell_type": "code",
   "execution_count": 8,
   "id": "da72ee73",
   "metadata": {},
   "outputs": [],
   "source": [
    "def order_loop():\n",
    "    '''\n",
    "    Loop ordering actions until checkout or exit.\n",
    "    '''\n",
    "    \n",
    "    # Display a welcome message to the user\n",
    "    print('Welcome to the ' + RESTAURANT_NAME + '!')\n",
    "    \n",
    "    # Set the conditional boolean variable that will be used to determine if the while loop\n",
    "    # continues running or whether it should terminate\n",
    "    ordering = True\n",
    "    \n",
    "    while ordering:\n",
    "        # Display the app ordering actions\n",
    "        print('\\n****Ordering Actions****\\n')\n",
    "        for number in app_actions:\n",
    "            description = app_actions[number]\n",
    "            print('(' + number + ')', description)\n",
    "        \n",
    "        # Get user input for the action they want to take\n",
    "        response = input('Please enter the number of the action you want to take: ')\n",
    "        \n",
    "        if response == '1':\n",
    "            # User wants to order a menu item. Prompt them for SKU and quantity.\n",
    "            display_menu()\n",
    "            sku_prompt = 'Please enter the SKU number for the menu item you want to order: '\n",
    "            quantity_prompt = 'Please enter the quantity you want to order [default is 1]: '\n",
    "            ordered_sku, quantity = get_sku_and_quantity(sku_prompt, quantity_prompt)\n",
    "            add_to_cart(ordered_sku, quantity)\n",
    "        elif response == '2':\n",
    "            # User wants to remove an item from the cart. Prompt them for SKU only.\n",
    "            display_menu()\n",
    "            sku_prompt = 'Please enter the SKU number for the menu item you want to remove: '\n",
    "            item_sku = get_sku_and_quantity(sku_prompt)\n",
    "            remove_from_cart(item_sku)\n",
    "        elif response == '3':\n",
    "            # User wants to modify an item quantity in the cart. Prompt them for SKU and quantity.\n",
    "            display_menu()\n",
    "            sku_prompt = 'Please enter the SKU number for the menu item you want to modify: '\n",
    "            quantity_prompt = 'Please enter the quantity you want to change to [default is 1]: '\n",
    "            item_sku, quantity = get_sku_and_quantity(sku_prompt, quantity_prompt)\n",
    "            modify_cart(item_sku, quantity)\n",
    "        elif response == '4':\n",
    "            # User wants to view the current cart contents. No user input needed.\n",
    "            view_cart()\n",
    "        elif response == '5':\n",
    "            # User wants to checkout. No user input needed. Terminate the while loop after displaying.\n",
    "            checkout()\n",
    "            ordering = False\n",
    "        elif response == '6':\n",
    "            # User wants to exit before ordering. No user input needed. Terminate the while loop.\n",
    "            print('Goodbye!')\n",
    "            ordering = False\n",
    "        else:\n",
    "            # User has entered an invalid action number. Display a message.\n",
    "            print('You have entered an invalid action number. Please try again.')\n"
   ]
  },
  {
   "cell_type": "markdown",
   "id": "d5bbe566",
   "metadata": {},
   "source": [
    "## Test the Ordering App."
   ]
  },
  {
   "cell_type": "code",
   "execution_count": null,
   "id": "4e43da7b",
   "metadata": {},
   "outputs": [
    {
     "name": "stdout",
     "output_type": "stream",
     "text": [
      "Welcome to the Hannah's Food Palace!\n",
      "\n",
      "****Ordering Actions****\n",
      "\n",
      "(1) Add a new menu item to the cart\n",
      "(2) Remove an item from the cart\n",
      "(3) Modify the quantity of a cart item\n",
      "(4) View the contents of the cart\n",
      "(5) Proceed to checkout\n",
      "(6) Exit the application\n"
     ]
    }
   ],
   "source": [
    "order_loop()"
   ]
  },
  {
   "cell_type": "markdown",
   "id": "2c7b4ba0",
   "metadata": {},
   "source": [
    "## Deploy the App"
   ]
  },
  {
   "cell_type": "code",
   "execution_count": null,
   "id": "5f3aad5b",
   "metadata": {},
   "outputs": [],
   "source": [
    "from flask import Flask, render_template, request\n",
    "\n",
    "app = Flask(__name__)\n",
    "\n",
    "# Your existing menu application functions (e.g., display_menu, add_to_cart, etc.)\n",
    "\n",
    "# Define routes\n",
    "@app.route('/')\n",
    "def index():\n",
    "    return render_template('index.html')\n",
    "\n",
    "@app.route('/order', methods=['GET', 'POST'])\n",
    "def order():\n",
    "    if request.method == 'POST':\n",
    "        # Handle form submission here based on user input\n",
    "        pass\n",
    "\n",
    "    # Display the menu or order form\n",
    "    return render_template('order.html', menu=menu)\n",
    "\n",
    "# Other routes and functions as needed...\n",
    "\n",
    "if __name__ == '__main__':\n",
    "    app.run(debug=True)\n"
   ]
  },
  {
   "cell_type": "code",
   "execution_count": null,
   "id": "61abbf2a",
   "metadata": {},
   "outputs": [],
   "source": [
    "<!DOCTYPE html>\n",
    "<html lang=\"en\">\n",
    "<head>\n",
    "    <meta charset=\"UTF-8\">\n",
    "    <meta http-equiv=\"X-UA-Compatible\" content=\"IE=edge\">\n",
    "    <meta name=\"viewport\" content=\"width=device-width, initial-scale=1.0\">\n",
    "    <title>Welcome to the Restaurant</title>\n",
    "</head>\n",
    "<body>\n",
    "    <h1>Welcome to {{ restaurant_name }}!</h1>\n",
    "    <p>Explore our menu and place your order.</p>\n",
    "    <a href=\"{{ url_for('order') }}\">Order Now</a>\n",
    "</body>\n",
    "</html>\n"
   ]
  },
  {
   "cell_type": "code",
   "execution_count": null,
   "id": "f1163305",
   "metadata": {},
   "outputs": [],
   "source": [
    "<!DOCTYPE html>\n",
    "<html lang=\"en\">\n",
    "<head>\n",
    "    <meta charset=\"UTF-8\">\n",
    "    <meta http-equiv=\"X-UA-Compatible\" content=\"IE=edge\">\n",
    "    <meta name=\"viewport\" content=\"width=device-width, initial-scale=1.0\">\n",
    "    <title>Order Menu Items</title>\n",
    "</head>\n",
    "<body>\n",
    "    <h2>Menu</h2>\n",
    "    <!-- Display the menu -->\n",
    "    {% for sku, item in menu.items() %}\n",
    "        <p>{{ sku }}: {{ item.name }} - ${{ item.price }}</p>\n",
    "    {% endfor %}\n",
    "\n",
    "    <h2>Order Form</h2>\n",
    "    <!-- Your order form here -->\n",
    "</body>\n",
    "</html>\n"
   ]
  },
  {
   "cell_type": "code",
   "execution_count": null,
   "id": "1f8e06e4",
   "metadata": {},
   "outputs": [],
   "source": [
    "#run flask app locally\n",
    "python app.py"
   ]
  }
 ],
 "metadata": {
  "kernelspec": {
   "display_name": "Python (learn-env)",
   "language": "python",
   "name": "learn-env"
  },
  "language_info": {
   "codemirror_mode": {
    "name": "ipython",
    "version": 3
   },
   "file_extension": ".py",
   "mimetype": "text/x-python",
   "name": "python",
   "nbconvert_exporter": "python",
   "pygments_lexer": "ipython3",
   "version": "3.8.5"
  }
 },
 "nbformat": 4,
 "nbformat_minor": 5
}
